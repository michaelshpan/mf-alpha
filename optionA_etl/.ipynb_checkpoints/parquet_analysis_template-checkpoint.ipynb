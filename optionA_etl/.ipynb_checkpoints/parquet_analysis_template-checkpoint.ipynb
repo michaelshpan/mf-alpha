{
 "cells": [
  {
   "cell_type": "markdown",
   "metadata": {},
   "source": [
    "# Parquet Data Analysis Template\n",
    "Interactive analysis of parquet files from the prediction service"
   ]
  },
  {
   "cell_type": "code",
   "execution_count": null,
   "metadata": {},
   "outputs": [],
   "source": [
    "import pandas as pd\n",
    "import numpy as np\n",
    "import matplotlib.pyplot as plt\n",
    "import seaborn as sns\n",
    "from pathlib import Path\n",
    "\n",
    "# Configure display options\n",
    "pd.set_option('display.max_columns', None)\n",
    "pd.set_option('display.width', 1000)\n",
    "plt.rcParams['figure.figsize'] = (12, 6)\n",
    "sns.set_style('whitegrid')"
   ]
  },
  {
   "cell_type": "code",
   "execution_count": null,
   "metadata": {},
   "outputs": [],
   "source": [
    "# Load prediction results\n",
    "predictions = pd.read_parquet('predictions/alpha.parquet')\n",
    "print(f\"Loaded {len(predictions)} predictions\")\n",
    "predictions.info()"
   ]
  },
  {
   "cell_type": "code",
   "execution_count": null,
   "metadata": {},
   "outputs": [],
   "source": [
    "# Basic exploration\n",
    "print(\"First 10 rows:\")\n",
    "predictions.head(10)"
   ]
  },
  {
   "cell_type": "code",
   "execution_count": null,
   "metadata": {},
   "outputs": [],
   "source": [
    "# Summary statistics\n",
    "predictions.describe()"
   ]
  },
  {
   "cell_type": "code",
   "execution_count": null,
   "metadata": {},
   "outputs": [],
   "source": [
    "# Fund-level analysis\n",
    "fund_summary = predictions.groupby('class_id').agg({\n",
    "    'ensemble_prediction': ['count', 'mean', 'std', 'min', 'max']\n",
    "}).round(4)\n",
    "\n",
    "print(\"Fund-level statistics:\")\n",
    "fund_summary"
   ]
  },
  {
   "cell_type": "code",
   "execution_count": null,
   "metadata": {},
   "outputs": [],
   "source": [
    "# Visualization: Distribution of predictions\n",
    "plt.figure(figsize=(14, 5))\n",
    "\n",
    "plt.subplot(1, 2, 1)\n",
    "plt.hist(predictions['ensemble_prediction'], bins=30, alpha=0.7, color='skyblue')\n",
    "plt.title('Distribution of Alpha Predictions')\n",
    "plt.xlabel('Alpha Prediction')\n",
    "plt.ylabel('Frequency')\n",
    "\n",
    "plt.subplot(1, 2, 2)\n",
    "predictions.boxplot(column='ensemble_prediction', by='class_id', ax=plt.gca())\n",
    "plt.title('Predictions by Fund')\n",
    "plt.suptitle('')\n",
    "plt.xticks(rotation=45)\n",
    "\n",
    "plt.tight_layout()\n",
    "plt.show()"
   ]
  },
  {
   "cell_type": "code",
   "execution_count": null,
   "metadata": {},
   "outputs": [],
   "source": [
    "# Load ETL data for comparison\n",
    "etl_data = pd.read_parquet('data/pilot_fact_class_month.parquet')\n",
    "print(f\"Loaded {len(etl_data)} ETL records\")\n",
    "etl_data.info()"
   ]
  },
  {
   "cell_type": "code",
   "execution_count": null,
   "metadata": {},
   "outputs": [],
   "source": [
    "# Merge predictions with ETL data for deeper analysis\n",
    "merged = pd.merge(predictions, etl_data, on=['class_id', 'month_end'], how='left')\n",
    "print(f\"Merged dataset: {len(merged)} records\")\n",
    "merged.head()"
   ]
  },
  {
   "cell_type": "code",
   "execution_count": null,
   "metadata": {},
   "outputs": [],
   "source": [
    "# Time series analysis (if multiple time periods)\n",
    "if predictions['month_end'].nunique() > 1:\n",
    "    plt.figure(figsize=(14, 6))\n",
    "    \n",
    "    for fund_id in predictions['class_id'].unique():\n",
    "        fund_data = predictions[predictions['class_id'] == fund_id].sort_values('month_end')\n",
    "        plt.plot(fund_data['month_end'], fund_data['ensemble_prediction'], \n",
    "                marker='o', label=fund_id)\n",
    "    \n",
    "    plt.title('Alpha Predictions Over Time')\n",
    "    plt.xlabel('Date')\n",
    "    plt.ylabel('Alpha Prediction')\n",
    "    plt.legend()\n",
    "    plt.xticks(rotation=45)\n",
    "    plt.tight_layout()\n",
    "    plt.show()\nelse:\n",
    "    print(\"Single time period - no time series analysis\")"
   ]
  },
  {
   "cell_type": "code",
   "execution_count": null,
   "metadata": {},
   "outputs": [],
   "source": [
    "# Export summary to Excel for sharing\n",
    "with pd.ExcelWriter('predictions/prediction_summary.xlsx', engine='openpyxl') as writer:\n",
    "    predictions.to_excel(writer, sheet_name='Raw_Predictions', index=False)\n",
    "    fund_summary.to_excel(writer, sheet_name='Fund_Summary')\n",
    "    \n",
    "print(\"📊 Summary exported to: predictions/prediction_summary.xlsx\")"
   ]
  }
 ],
 "metadata": {
  "kernelspec": {
   "display_name": "Python 3",
   "language": "python",
   "name": "python3"
  },
  "language_info": {
   "codemirror_mode": {
    "name": "ipython",
    "version": 3
   },
   "file_extension": ".py",
   "mimetype": "text/x-python",
   "name": "python",
   "nbconvert_exporter": "python",
   "pygments_lexer": "ipython3",
   "version": "3.8.0"
  }
 },
 "nbformat": 4,
 "nbformat_minor": 4
}